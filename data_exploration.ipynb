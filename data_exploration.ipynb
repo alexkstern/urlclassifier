{
 "cells": [
  {
   "cell_type": "markdown",
   "id": "bc9e9cd6",
   "metadata": {},
   "source": [
    "# Explore dataset and retrieve URL embeddings"
   ]
  },
  {
   "cell_type": "markdown",
   "id": "5bf4e69a",
   "metadata": {},
   "source": [
    "## Explore dataset"
   ]
  },
  {
   "cell_type": "code",
   "execution_count": 21,
   "id": "58f12042",
   "metadata": {},
   "outputs": [],
   "source": [
    "import pandas as pd\n",
    "import matplotlib.pyplot as plt\n"
   ]
  },
  {
   "cell_type": "code",
   "execution_count": 16,
   "id": "36c44c15",
   "metadata": {},
   "outputs": [
    {
     "data": {
      "text/html": [
       "<div>\n",
       "<style scoped>\n",
       "    .dataframe tbody tr th:only-of-type {\n",
       "        vertical-align: middle;\n",
       "    }\n",
       "\n",
       "    .dataframe tbody tr th {\n",
       "        vertical-align: top;\n",
       "    }\n",
       "\n",
       "    .dataframe thead th {\n",
       "        text-align: right;\n",
       "    }\n",
       "</style>\n",
       "<table border=\"1\" class=\"dataframe\">\n",
       "  <thead>\n",
       "    <tr style=\"text-align: right;\">\n",
       "      <th></th>\n",
       "      <th>URL</th>\n",
       "      <th>Label</th>\n",
       "    </tr>\n",
       "  </thead>\n",
       "  <tbody>\n",
       "    <tr>\n",
       "      <th>0</th>\n",
       "      <td>nobell.it/70ffb52d079109dca5664cce6f317373782/...</td>\n",
       "      <td>bad</td>\n",
       "    </tr>\n",
       "    <tr>\n",
       "      <th>1</th>\n",
       "      <td>www.dghjdgf.com/paypal.co.uk/cycgi-bin/webscrc...</td>\n",
       "      <td>bad</td>\n",
       "    </tr>\n",
       "    <tr>\n",
       "      <th>2</th>\n",
       "      <td>serviciosbys.com/paypal.cgi.bin.get-into.herf....</td>\n",
       "      <td>bad</td>\n",
       "    </tr>\n",
       "    <tr>\n",
       "      <th>3</th>\n",
       "      <td>mail.printakid.com/www.online.americanexpress....</td>\n",
       "      <td>bad</td>\n",
       "    </tr>\n",
       "    <tr>\n",
       "      <th>4</th>\n",
       "      <td>thewhiskeydregs.com/wp-content/themes/widescre...</td>\n",
       "      <td>bad</td>\n",
       "    </tr>\n",
       "    <tr>\n",
       "      <th>...</th>\n",
       "      <td>...</td>\n",
       "      <td>...</td>\n",
       "    </tr>\n",
       "    <tr>\n",
       "      <th>549341</th>\n",
       "      <td>23.227.196.215/</td>\n",
       "      <td>bad</td>\n",
       "    </tr>\n",
       "    <tr>\n",
       "      <th>549342</th>\n",
       "      <td>apple-checker.org/</td>\n",
       "      <td>bad</td>\n",
       "    </tr>\n",
       "    <tr>\n",
       "      <th>549343</th>\n",
       "      <td>apple-iclods.org/</td>\n",
       "      <td>bad</td>\n",
       "    </tr>\n",
       "    <tr>\n",
       "      <th>549344</th>\n",
       "      <td>apple-uptoday.org/</td>\n",
       "      <td>bad</td>\n",
       "    </tr>\n",
       "    <tr>\n",
       "      <th>549345</th>\n",
       "      <td>apple-search.info</td>\n",
       "      <td>bad</td>\n",
       "    </tr>\n",
       "  </tbody>\n",
       "</table>\n",
       "<p>549346 rows × 2 columns</p>\n",
       "</div>"
      ],
      "text/plain": [
       "                                                      URL Label\n",
       "0       nobell.it/70ffb52d079109dca5664cce6f317373782/...   bad\n",
       "1       www.dghjdgf.com/paypal.co.uk/cycgi-bin/webscrc...   bad\n",
       "2       serviciosbys.com/paypal.cgi.bin.get-into.herf....   bad\n",
       "3       mail.printakid.com/www.online.americanexpress....   bad\n",
       "4       thewhiskeydregs.com/wp-content/themes/widescre...   bad\n",
       "...                                                   ...   ...\n",
       "549341                                    23.227.196.215/   bad\n",
       "549342                                 apple-checker.org/   bad\n",
       "549343                                  apple-iclods.org/   bad\n",
       "549344                                 apple-uptoday.org/   bad\n",
       "549345                                  apple-search.info   bad\n",
       "\n",
       "[549346 rows x 2 columns]"
      ]
     },
     "execution_count": 16,
     "metadata": {},
     "output_type": "execute_result"
    }
   ],
   "source": [
    "df = pd.read_csv('phishing_site_urls.csv')\n",
    "df"
   ]
  },
  {
   "cell_type": "code",
   "execution_count": 17,
   "id": "cf962bb6",
   "metadata": {},
   "outputs": [
    {
     "name": "stdout",
     "output_type": "stream",
     "text": [
      "77074\n"
     ]
    }
   ],
   "source": [
    "duplicate_urls_count = df.duplicated(subset=['URL'], keep=False).sum()\n",
    "print(duplicate_urls_count)"
   ]
  },
  {
   "cell_type": "code",
   "execution_count": 18,
   "id": "4059bc13",
   "metadata": {},
   "outputs": [],
   "source": [
    "df.drop_duplicates(subset='URL', keep='first', inplace=True)"
   ]
  },
  {
   "cell_type": "code",
   "execution_count": 19,
   "id": "93d54d86",
   "metadata": {},
   "outputs": [
    {
     "data": {
      "text/html": [
       "<div>\n",
       "<style scoped>\n",
       "    .dataframe tbody tr th:only-of-type {\n",
       "        vertical-align: middle;\n",
       "    }\n",
       "\n",
       "    .dataframe tbody tr th {\n",
       "        vertical-align: top;\n",
       "    }\n",
       "\n",
       "    .dataframe thead th {\n",
       "        text-align: right;\n",
       "    }\n",
       "</style>\n",
       "<table border=\"1\" class=\"dataframe\">\n",
       "  <thead>\n",
       "    <tr style=\"text-align: right;\">\n",
       "      <th></th>\n",
       "      <th>URL</th>\n",
       "      <th>Label</th>\n",
       "    </tr>\n",
       "  </thead>\n",
       "  <tbody>\n",
       "    <tr>\n",
       "      <th>0</th>\n",
       "      <td>nobell.it/70ffb52d079109dca5664cce6f317373782/...</td>\n",
       "      <td>bad</td>\n",
       "    </tr>\n",
       "    <tr>\n",
       "      <th>1</th>\n",
       "      <td>www.dghjdgf.com/paypal.co.uk/cycgi-bin/webscrc...</td>\n",
       "      <td>bad</td>\n",
       "    </tr>\n",
       "    <tr>\n",
       "      <th>2</th>\n",
       "      <td>serviciosbys.com/paypal.cgi.bin.get-into.herf....</td>\n",
       "      <td>bad</td>\n",
       "    </tr>\n",
       "    <tr>\n",
       "      <th>3</th>\n",
       "      <td>mail.printakid.com/www.online.americanexpress....</td>\n",
       "      <td>bad</td>\n",
       "    </tr>\n",
       "    <tr>\n",
       "      <th>4</th>\n",
       "      <td>thewhiskeydregs.com/wp-content/themes/widescre...</td>\n",
       "      <td>bad</td>\n",
       "    </tr>\n",
       "    <tr>\n",
       "      <th>...</th>\n",
       "      <td>...</td>\n",
       "      <td>...</td>\n",
       "    </tr>\n",
       "    <tr>\n",
       "      <th>516466</th>\n",
       "      <td>23.227.196.215/</td>\n",
       "      <td>bad</td>\n",
       "    </tr>\n",
       "    <tr>\n",
       "      <th>516467</th>\n",
       "      <td>apple-checker.org/</td>\n",
       "      <td>bad</td>\n",
       "    </tr>\n",
       "    <tr>\n",
       "      <th>516468</th>\n",
       "      <td>apple-iclods.org/</td>\n",
       "      <td>bad</td>\n",
       "    </tr>\n",
       "    <tr>\n",
       "      <th>516469</th>\n",
       "      <td>apple-uptoday.org/</td>\n",
       "      <td>bad</td>\n",
       "    </tr>\n",
       "    <tr>\n",
       "      <th>516470</th>\n",
       "      <td>apple-search.info</td>\n",
       "      <td>bad</td>\n",
       "    </tr>\n",
       "  </tbody>\n",
       "</table>\n",
       "<p>507195 rows × 2 columns</p>\n",
       "</div>"
      ],
      "text/plain": [
       "                                                      URL Label\n",
       "0       nobell.it/70ffb52d079109dca5664cce6f317373782/...   bad\n",
       "1       www.dghjdgf.com/paypal.co.uk/cycgi-bin/webscrc...   bad\n",
       "2       serviciosbys.com/paypal.cgi.bin.get-into.herf....   bad\n",
       "3       mail.printakid.com/www.online.americanexpress....   bad\n",
       "4       thewhiskeydregs.com/wp-content/themes/widescre...   bad\n",
       "...                                                   ...   ...\n",
       "516466                                    23.227.196.215/   bad\n",
       "516467                                 apple-checker.org/   bad\n",
       "516468                                  apple-iclods.org/   bad\n",
       "516469                                 apple-uptoday.org/   bad\n",
       "516470                                  apple-search.info   bad\n",
       "\n",
       "[507195 rows x 2 columns]"
      ]
     },
     "execution_count": 19,
     "metadata": {},
     "output_type": "execute_result"
    }
   ],
   "source": [
    "df"
   ]
  },
  {
   "cell_type": "code",
   "execution_count": 20,
   "id": "2919edd8",
   "metadata": {},
   "outputs": [
    {
     "name": "stdout",
     "output_type": "stream",
     "text": [
      "good    392897\n",
      "bad     114298\n",
      "Name: Label, dtype: int64\n"
     ]
    },
    {
     "data": {
      "image/png": "[encoded data removed]",
      "text/plain": [
       "<Figure size 432x288 with 1 Axes>"
      ]
     },
     "metadata": {
      "needs_background": "light"
     },
     "output_type": "display_data"
    }
   ],
   "source": [
    "print(df['Label'].value_counts())\n",
    "df['Label'].value_counts().plot(kind='bar')\n",
    "plt.title('Distribution of Labels')\n",
    "plt.xlabel('Label')\n",
    "plt.ylabel('Count')\n",
    "plt.show()\n"
   ]
  },
  {
   "cell_type": "markdown",
   "id": "5e3c9b37",
   "metadata": {},
   "source": [
    "## Sample of dataset"
   ]
  },
  {
   "cell_type": "code",
   "execution_count": 26,
   "id": "93818f04",
   "metadata": {},
   "outputs": [],
   "source": [
    "good_samples = df[df['Label'] == 'good'].sample(2500, random_state=42)\n",
    "bad_samples = df[df['Label'] == 'bad'].sample(2500, random_state=42)\n",
    "df_sample = pd.concat([good_samples, bad_samples])\n",
    "df_sample = df_sample.sample(frac=1, random_state=42).reset_index(drop=True)\n"
   ]
  },
  {
   "cell_type": "markdown",
   "id": "45dd9a37",
   "metadata": {},
   "source": [
    "## Embed the sample URL's using MiniLM"
   ]
  },
  {
   "cell_type": "markdown",
   "id": "fd43028d",
   "metadata": {},
   "source": [
    "https://huggingface.co/sentence-transformers/all-MiniLM-L6-v2 This is a sentence-transformers model: It maps sentences & paragraphs to a 384 dimensional dense vector space."
   ]
  },
  {
   "cell_type": "code",
   "execution_count": 27,
   "id": "0b9c50a8",
   "metadata": {},
   "outputs": [
    {
     "name": "stderr",
     "output_type": "stream",
     "text": [
      "100%|██████████| 5000/5000 [01:12<00:00, 68.70it/s]\n"
     ]
    }
   ],
   "source": [
    "from url_embedding import URLEmbedder\n",
    "from tqdm import tqdm\n",
    "\n",
    "tqdm.pandas()\n",
    "embedder = URLEmbedder()\n",
    "\n",
    "df_sample['Embeddings'] = df_sample['URL'].progress_apply(embedder.url_to_embedding)\n"
   ]
  },
  {
   "cell_type": "code",
   "execution_count": 28,
   "id": "1d662043",
   "metadata": {},
   "outputs": [
    {
     "data": {
      "text/html": [
       "<div>\n",
       "<style scoped>\n",
       "    .dataframe tbody tr th:only-of-type {\n",
       "        vertical-align: middle;\n",
       "    }\n",
       "\n",
       "    .dataframe tbody tr th {\n",
       "        vertical-align: top;\n",
       "    }\n",
       "\n",
       "    .dataframe thead th {\n",
       "        text-align: right;\n",
       "    }\n",
       "</style>\n",
       "<table border=\"1\" class=\"dataframe\">\n",
       "  <thead>\n",
       "    <tr style=\"text-align: right;\">\n",
       "      <th></th>\n",
       "      <th>URL</th>\n",
       "      <th>Label</th>\n",
       "      <th>Embeddings</th>\n",
       "    </tr>\n",
       "  </thead>\n",
       "  <tbody>\n",
       "    <tr>\n",
       "      <th>0</th>\n",
       "      <td>cbc.ca/sports/indepth/expos/woes.html</td>\n",
       "      <td>good</td>\n",
       "      <td>[-0.00935816764831543, 0.07413012534379959, -0...</td>\n",
       "    </tr>\n",
       "    <tr>\n",
       "      <th>1</th>\n",
       "      <td>'www.divulgarce.com.br/2011//wp-admin/maint/pr...</td>\n",
       "      <td>bad</td>\n",
       "      <td>[0.026201924309134483, 8.966281893663108e-05, ...</td>\n",
       "    </tr>\n",
       "    <tr>\n",
       "      <th>2</th>\n",
       "      <td>update.sppen.com/setup/sppen_Setup_silent.exe</td>\n",
       "      <td>bad</td>\n",
       "      <td>[0.007082153577357531, -0.06453803181648254, -...</td>\n",
       "    </tr>\n",
       "    <tr>\n",
       "      <th>3</th>\n",
       "      <td>ebay.com/itm/1934-Ad-Wrigleys-Double-Mint-Gum-...</td>\n",
       "      <td>good</td>\n",
       "      <td>[-0.09509860724210739, 0.029595255851745605, -...</td>\n",
       "    </tr>\n",
       "    <tr>\n",
       "      <th>4</th>\n",
       "      <td>guardian.co.uk/film/2009/aug/30/miranda-richar...</td>\n",
       "      <td>good</td>\n",
       "      <td>[-0.0822666808962822, -0.006449347827583551, -...</td>\n",
       "    </tr>\n",
       "    <tr>\n",
       "      <th>...</th>\n",
       "      <td>...</td>\n",
       "      <td>...</td>\n",
       "      <td>...</td>\n",
       "    </tr>\n",
       "    <tr>\n",
       "      <th>4995</th>\n",
       "      <td>ipjacarezinho.org.br/stats/index.php</td>\n",
       "      <td>bad</td>\n",
       "      <td>[0.053319305181503296, -0.003357160370796919, ...</td>\n",
       "    </tr>\n",
       "    <tr>\n",
       "      <th>4996</th>\n",
       "      <td>armchairgeneral.com/category/carlo-deste</td>\n",
       "      <td>good</td>\n",
       "      <td>[-0.08177042007446289, -0.0060075330547988415,...</td>\n",
       "    </tr>\n",
       "    <tr>\n",
       "      <th>4997</th>\n",
       "      <td>city-charger.ru/43ftybb8</td>\n",
       "      <td>bad</td>\n",
       "      <td>[-0.05444147065281868, 0.11203248053789139, -0...</td>\n",
       "    </tr>\n",
       "    <tr>\n",
       "      <th>4998</th>\n",
       "      <td>steelbase.co.kr/wp-content/cache/bookmark/book...</td>\n",
       "      <td>bad</td>\n",
       "      <td>[-0.07021351158618927, -0.02877296321094036, -...</td>\n",
       "    </tr>\n",
       "    <tr>\n",
       "      <th>4999</th>\n",
       "      <td>coshoctonohio.pa-roots.com/Births1867_1879/bir...</td>\n",
       "      <td>good</td>\n",
       "      <td>[-0.04293934628367424, 0.07666641473770142, -0...</td>\n",
       "    </tr>\n",
       "  </tbody>\n",
       "</table>\n",
       "<p>5000 rows × 3 columns</p>\n",
       "</div>"
      ],
      "text/plain": [
       "                                                    URL Label  \\\n",
       "0                 cbc.ca/sports/indepth/expos/woes.html  good   \n",
       "1     'www.divulgarce.com.br/2011//wp-admin/maint/pr...   bad   \n",
       "2         update.sppen.com/setup/sppen_Setup_silent.exe   bad   \n",
       "3     ebay.com/itm/1934-Ad-Wrigleys-Double-Mint-Gum-...  good   \n",
       "4     guardian.co.uk/film/2009/aug/30/miranda-richar...  good   \n",
       "...                                                 ...   ...   \n",
       "4995               ipjacarezinho.org.br/stats/index.php   bad   \n",
       "4996           armchairgeneral.com/category/carlo-deste  good   \n",
       "4997                           city-charger.ru/43ftybb8   bad   \n",
       "4998  steelbase.co.kr/wp-content/cache/bookmark/book...   bad   \n",
       "4999  coshoctonohio.pa-roots.com/Births1867_1879/bir...  good   \n",
       "\n",
       "                                             Embeddings  \n",
       "0     [-0.00935816764831543, 0.07413012534379959, -0...  \n",
       "1     [0.026201924309134483, 8.966281893663108e-05, ...  \n",
       "2     [0.007082153577357531, -0.06453803181648254, -...  \n",
       "3     [-0.09509860724210739, 0.029595255851745605, -...  \n",
       "4     [-0.0822666808962822, -0.006449347827583551, -...  \n",
       "...                                                 ...  \n",
       "4995  [0.053319305181503296, -0.003357160370796919, ...  \n",
       "4996  [-0.08177042007446289, -0.0060075330547988415,...  \n",
       "4997  [-0.05444147065281868, 0.11203248053789139, -0...  \n",
       "4998  [-0.07021351158618927, -0.02877296321094036, -...  \n",
       "4999  [-0.04293934628367424, 0.07666641473770142, -0...  \n",
       "\n",
       "[5000 rows x 3 columns]"
      ]
     },
     "execution_count": 28,
     "metadata": {},
     "output_type": "execute_result"
    }
   ],
   "source": [
    "df_sample"
   ]
  },
  {
   "cell_type": "code",
   "execution_count": 29,
   "id": "dd00cd63",
   "metadata": {},
   "outputs": [],
   "source": [
    "import numpy as np\n",
    "from sklearn.ensemble import RandomForestClassifier\n",
    "from sklearn.model_selection import train_test_split\n",
    "from sklearn.metrics import classification_report\n",
    "\n",
    "# Drop rows where 'Embeddings' is NaN\n",
    "df_sample = df_sample.dropna(subset=['Embeddings'])\n",
    "\n",
    "# Convert embeddings lists to numpy array\n",
    "X = np.vstack(df_sample['Embeddings'].to_numpy())\n",
    "\n",
    "# Convert string labels to numerical format\n",
    "y = df_sample['Label'].map({'good': 1, 'bad': 0}).to_numpy()\n"
   ]
  },
  {
   "cell_type": "code",
   "execution_count": 30,
   "id": "9bd79b41",
   "metadata": {},
   "outputs": [],
   "source": [
    "X_train, X_test, y_train, y_test = train_test_split(X, y, test_size=0.2, random_state=42)\n"
   ]
  },
  {
   "cell_type": "code",
   "execution_count": 31,
   "id": "af824c36",
   "metadata": {},
   "outputs": [
    {
     "data": {
      "text/plain": [
       "RandomForestClassifier(random_state=42)"
      ]
     },
     "execution_count": 31,
     "metadata": {},
     "output_type": "execute_result"
    }
   ],
   "source": [
    "clf = RandomForestClassifier(random_state=42)\n",
    "clf.fit(X_train, y_train)\n"
   ]
  },
  {
   "cell_type": "code",
   "execution_count": 32,
   "id": "1965512c",
   "metadata": {},
   "outputs": [
    {
     "name": "stdout",
     "output_type": "stream",
     "text": [
      "              precision    recall  f1-score   support\n",
      "\n",
      "           0       0.88      0.83      0.85       524\n",
      "           1       0.82      0.87      0.85       476\n",
      "\n",
      "    accuracy                           0.85      1000\n",
      "   macro avg       0.85      0.85      0.85      1000\n",
      "weighted avg       0.85      0.85      0.85      1000\n",
      "\n"
     ]
    }
   ],
   "source": [
    "predictions = clf.predict(X_test)\n",
    "print(classification_report(y_test, predictions))\n"
   ]
  },
  {
   "cell_type": "code",
   "execution_count": 33,
   "id": "6edd1ecd",
   "metadata": {},
   "outputs": [
    {
     "name": "stdout",
     "output_type": "stream",
     "text": [
      "F1 Score: 0.8490796000044013\n"
     ]
    }
   ],
   "source": [
    "from sklearn.metrics import f1_score\n",
    "\n",
    "# Calculate F1 Score\n",
    "f1 = f1_score(y_test, predictions, average='weighted')\n",
    "print('F1 Score:', f1)\n"
   ]
  },
  {
   "cell_type": "code",
   "execution_count": 34,
   "id": "96bb62a4",
   "metadata": {},
   "outputs": [
    {
     "name": "stdout",
     "output_type": "stream",
     "text": [
      "[[433  91]\n",
      " [ 60 416]]\n"
     ]
    }
   ],
   "source": [
    "from sklearn.metrics import confusion_matrix\n",
    "conf_matrix = confusion_matrix(y_test, predictions)\n",
    "print(conf_matrix)\n"
   ]
  },
  {
   "cell_type": "markdown",
   "id": "8d3a4e7d",
   "metadata": {},
   "source": [
    "## Embedding the full dataset of URL's using MiniLM"
   ]
  },
  {
   "cell_type": "markdown",
   "id": "a52736fd",
   "metadata": {},
   "source": [
    "https://huggingface.co/sentence-transformers/all-MiniLM-L6-v2 This is a sentence-transformers model: It maps sentences & paragraphs to a 384 dimensional dense vector space."
   ]
  },
  {
   "cell_type": "code",
   "execution_count": 35,
   "id": "d237aefa",
   "metadata": {},
   "outputs": [
    {
     "name": "stderr",
     "output_type": "stream",
     "text": [
      "100%|██████████| 507195/507195 [1:51:57<00:00, 75.50it/s]   \n"
     ]
    }
   ],
   "source": [
    "from url_embedding import URLEmbedder\n",
    "from tqdm import tqdm\n",
    "\n",
    "tqdm.pandas()\n",
    "embedder = URLEmbedder()\n",
    "\n",
    "df['Embeddings'] = df['URL'].progress_apply(embedder.url_to_embedding)\n"
   ]
  },
  {
   "cell_type": "code",
   "execution_count": 46,
   "id": "8300fa3d",
   "metadata": {},
   "outputs": [
    {
     "data": {
      "text/html": [
       "<div>\n",
       "<style scoped>\n",
       "    .dataframe tbody tr th:only-of-type {\n",
       "        vertical-align: middle;\n",
       "    }\n",
       "\n",
       "    .dataframe tbody tr th {\n",
       "        vertical-align: top;\n",
       "    }\n",
       "\n",
       "    .dataframe thead th {\n",
       "        text-align: right;\n",
       "    }\n",
       "</style>\n",
       "<table border=\"1\" class=\"dataframe\">\n",
       "  <thead>\n",
       "    <tr style=\"text-align: right;\">\n",
       "      <th></th>\n",
       "      <th>URL</th>\n",
       "      <th>Label</th>\n",
       "      <th>Embeddings</th>\n",
       "    </tr>\n",
       "  </thead>\n",
       "  <tbody>\n",
       "    <tr>\n",
       "      <th>0</th>\n",
       "      <td>nobell.it/70ffb52d079109dca5664cce6f317373782/...</td>\n",
       "      <td>bad</td>\n",
       "      <td>[-0.08934366703033447, -0.010603426955640316, ...</td>\n",
       "    </tr>\n",
       "    <tr>\n",
       "      <th>1</th>\n",
       "      <td>www.dghjdgf.com/paypal.co.uk/cycgi-bin/webscrc...</td>\n",
       "      <td>bad</td>\n",
       "      <td>[-0.07558689266443253, 0.03260812163352966, 0....</td>\n",
       "    </tr>\n",
       "    <tr>\n",
       "      <th>2</th>\n",
       "      <td>serviciosbys.com/paypal.cgi.bin.get-into.herf....</td>\n",
       "      <td>bad</td>\n",
       "      <td>[-0.03573635593056679, 0.021130207926034927, -...</td>\n",
       "    </tr>\n",
       "    <tr>\n",
       "      <th>3</th>\n",
       "      <td>mail.printakid.com/www.online.americanexpress....</td>\n",
       "      <td>bad</td>\n",
       "      <td>[-0.05508413538336754, -0.03354843705892563, -...</td>\n",
       "    </tr>\n",
       "    <tr>\n",
       "      <th>4</th>\n",
       "      <td>thewhiskeydregs.com/wp-content/themes/widescre...</td>\n",
       "      <td>bad</td>\n",
       "      <td>[-0.04461636021733284, 0.004012315534055233, 0...</td>\n",
       "    </tr>\n",
       "    <tr>\n",
       "      <th>...</th>\n",
       "      <td>...</td>\n",
       "      <td>...</td>\n",
       "      <td>...</td>\n",
       "    </tr>\n",
       "    <tr>\n",
       "      <th>507190</th>\n",
       "      <td>23.227.196.215/</td>\n",
       "      <td>bad</td>\n",
       "      <td>[-0.0011708217207342386, -0.018237954005599022...</td>\n",
       "    </tr>\n",
       "    <tr>\n",
       "      <th>507191</th>\n",
       "      <td>apple-checker.org/</td>\n",
       "      <td>bad</td>\n",
       "      <td>[-0.01951279491186142, -0.03594030812382698, 0...</td>\n",
       "    </tr>\n",
       "    <tr>\n",
       "      <th>507192</th>\n",
       "      <td>apple-iclods.org/</td>\n",
       "      <td>bad</td>\n",
       "      <td>[-0.046614840626716614, -0.014849048107862473,...</td>\n",
       "    </tr>\n",
       "    <tr>\n",
       "      <th>507193</th>\n",
       "      <td>apple-uptoday.org/</td>\n",
       "      <td>bad</td>\n",
       "      <td>[-0.043062400072813034, 0.005100815556943417, ...</td>\n",
       "    </tr>\n",
       "    <tr>\n",
       "      <th>507194</th>\n",
       "      <td>apple-search.info</td>\n",
       "      <td>bad</td>\n",
       "      <td>[0.02036634460091591, 0.030286962166428566, 0....</td>\n",
       "    </tr>\n",
       "  </tbody>\n",
       "</table>\n",
       "<p>507195 rows × 3 columns</p>\n",
       "</div>"
      ],
      "text/plain": [
       "                                                      URL Label  \\\n",
       "0       nobell.it/70ffb52d079109dca5664cce6f317373782/...   bad   \n",
       "1       www.dghjdgf.com/paypal.co.uk/cycgi-bin/webscrc...   bad   \n",
       "2       serviciosbys.com/paypal.cgi.bin.get-into.herf....   bad   \n",
       "3       mail.printakid.com/www.online.americanexpress....   bad   \n",
       "4       thewhiskeydregs.com/wp-content/themes/widescre...   bad   \n",
       "...                                                   ...   ...   \n",
       "507190                                    23.227.196.215/   bad   \n",
       "507191                                 apple-checker.org/   bad   \n",
       "507192                                  apple-iclods.org/   bad   \n",
       "507193                                 apple-uptoday.org/   bad   \n",
       "507194                                  apple-search.info   bad   \n",
       "\n",
       "                                               Embeddings  \n",
       "0       [-0.08934366703033447, -0.010603426955640316, ...  \n",
       "1       [-0.07558689266443253, 0.03260812163352966, 0....  \n",
       "2       [-0.03573635593056679, 0.021130207926034927, -...  \n",
       "3       [-0.05508413538336754, -0.03354843705892563, -...  \n",
       "4       [-0.04461636021733284, 0.004012315534055233, 0...  \n",
       "...                                                   ...  \n",
       "507190  [-0.0011708217207342386, -0.018237954005599022...  \n",
       "507191  [-0.01951279491186142, -0.03594030812382698, 0...  \n",
       "507192  [-0.046614840626716614, -0.014849048107862473,...  \n",
       "507193  [-0.043062400072813034, 0.005100815556943417, ...  \n",
       "507194  [0.02036634460091591, 0.030286962166428566, 0....  \n",
       "\n",
       "[507195 rows x 3 columns]"
      ]
     },
     "execution_count": 46,
     "metadata": {},
     "output_type": "execute_result"
    }
   ],
   "source": [
    "df"
   ]
  },
  {
   "cell_type": "code",
   "execution_count": 38,
   "id": "8581b1ab",
   "metadata": {},
   "outputs": [
    {
     "name": "stdout",
     "output_type": "stream",
     "text": [
      "False\n"
     ]
    }
   ],
   "source": [
    "has_nans = df['Embeddings'].isnull().any()\n",
    "print(has_nans)"
   ]
  },
  {
   "cell_type": "code",
   "execution_count": null,
   "id": "7c050f51",
   "metadata": {},
   "outputs": [],
   "source": [
    "file_path = 'embeddings.pkl'\n",
    "\n",
    "# Save the DataFrame to a pickle file\n",
    "df.to_pickle(file_path)"
   ]
  }
 ],
 "metadata": {
  "kernelspec": {
   "display_name": "Python 3 (ipykernel)",
   "language": "python",
   "name": "python3"
  },
  "language_info": {
   "codemirror_mode": {
    "name": "ipython",
    "version": 3
   },
   "file_extension": ".py",
   "mimetype": "text/x-python",
   "name": "python",
   "nbconvert_exporter": "python",
   "pygments_lexer": "ipython3",
   "version": "3.9.12"
  }
 },
 "nbformat": 4,
 "nbformat_minor": 5
}
